{
 "cells": [
  {
   "cell_type": "code",
   "execution_count": 2,
   "id": "2f9fc20e-1172-4862-b6c2-cb547e8d91d4",
   "metadata": {},
   "outputs": [],
   "source": [
    "import pandas as pd\n",
    "from sklearn.preprocessing import MinMaxScaler\n",
    "from sklearn.cluster import KMeans\n",
    "import matplotlib.pyplot as plt\n",
    "import seaborn as sns"
   ]
  },
  {
   "cell_type": "code",
   "execution_count": 1,
   "id": "6187f0ad-fe50-448e-a9b4-feb9e60e55dc",
   "metadata": {},
   "outputs": [
    {
     "name": "stdout",
     "output_type": "stream",
     "text": [
      "          State          Crop  District  Year      Season    Area  Production  \\\n",
      "0  Chhattisgarh     Arhar/Tur  Bilaspur  2013      Kharif  2308.0        1474   \n",
      "1  Chhattisgarh         Bajra  Bilaspur  2013      Kharif    14.0           7   \n",
      "2  Chhattisgarh        Barley  Bilaspur  2013        Rabi     3.0           2   \n",
      "3  Chhattisgarh     Coriander  Bilaspur  2013  Whole Year   243.0          66   \n",
      "4  Chhattisgarh  Dry chillies  Bilaspur  2013  Whole Year   405.0         369   \n",
      "\n",
      "   Yield       SO2        NO2       RSPM         SPM  \n",
      "0   0.64  5.291667  21.473958  119.71875  389.201373  \n",
      "1   0.50  5.291667  21.473958  119.71875  389.201373  \n",
      "2   0.67  5.291667  21.473958  119.71875  389.201373  \n",
      "3   0.27  5.291667  21.473958  119.71875  389.201373  \n",
      "4   0.91  5.291667  21.473958  119.71875  389.201373  \n",
      "State         0\n",
      "Crop          0\n",
      "District      0\n",
      "Year          0\n",
      "Season        0\n",
      "Area          0\n",
      "Production    0\n",
      "Yield         0\n",
      "SO2           0\n",
      "NO2           0\n",
      "RSPM          0\n",
      "SPM           0\n",
      "dtype: int64\n"
     ]
    }
   ],
   "source": [
    "import pandas as pd\n",
    "\n",
    "# Load the dataset\n",
    "data = pd.read_csv(\"projectDataset.csv\")\n",
    "\n",
    "# Display the first few rows\n",
    "print(data.head())\n",
    "\n",
    "# Check for missing values\n",
    "print(data.isnull().sum())"
   ]
  },
  {
   "cell_type": "code",
   "execution_count": 3,
   "id": "6a8a3981-f4bf-4ce7-9cfb-cadeaebba9ac",
   "metadata": {},
   "outputs": [],
   "source": [
    "# Encode categorical variables\n",
    "data = pd.get_dummies(data, columns=['Crop', 'Season'], drop_first=True)\n",
    "\n",
    "# Define independent variables (features) and dependent variable (target)\n",
    "X = data[['SO2', 'NO2', 'RSPM', 'SPM', 'Area', 'Production'] + \n",
    "          [col for col in data.columns if col.startswith('Crop_') or col.startswith('Season_')]]\n",
    "y = data['Yield']"
   ]
  },
  {
   "cell_type": "code",
   "execution_count": 4,
   "id": "cd00b2b1-29d4-47f4-836d-56aa80b07978",
   "metadata": {},
   "outputs": [],
   "source": [
    "from sklearn.model_selection import train_test_split\n",
    "from sklearn.preprocessing import StandardScaler\n",
    "\n",
    "# Drop rows with missing values\n",
    "data.dropna(subset=X.columns.tolist() + ['Yield'], inplace=True)\n",
    "\n",
    "# Split the data into training and testing sets\n",
    "X_train, X_test, y_train, y_test = train_test_split(X, y, test_size=0.2, random_state=42)\n",
    "\n",
    "# Scale the features\n",
    "scaler = StandardScaler()\n",
    "X_train_scaled = scaler.fit_transform(X_train)\n",
    "X_test_scaled = scaler.transform(X_test)"
   ]
  },
  {
   "cell_type": "code",
   "execution_count": 5,
   "id": "11c7066e-7659-49b5-bd35-23542283fc69",
   "metadata": {},
   "outputs": [
    {
     "name": "stdout",
     "output_type": "stream",
     "text": [
      "Mean Squared Error: 34581.12716796564\n",
      "R-squared: 0.9710487392640221\n"
     ]
    }
   ],
   "source": [
    "from sklearn.ensemble import RandomForestRegressor\n",
    "from sklearn.metrics import mean_squared_error, r2_score\n",
    "\n",
    "# Train the Random Forest model\n",
    "model = RandomForestRegressor(random_state=42)\n",
    "model.fit(X_train_scaled, y_train)\n",
    "\n",
    "# Evaluate the model\n",
    "y_pred = model.predict(X_test_scaled)\n",
    "mse = mean_squared_error(y_test, y_pred)\n",
    "r2 = r2_score(y_test, y_pred)\n",
    "\n",
    "print(f\"Mean Squared Error: {mse}\")\n",
    "print(f\"R-squared: {r2}\")"
   ]
  },
  {
   "cell_type": "code",
   "execution_count": 6,
   "id": "0a5f32f7-f140-4ec3-b611-ddfae42c3c96",
   "metadata": {},
   "outputs": [
    {
     "name": "stdout",
     "output_type": "stream",
     "text": [
      "Original Yields: [ 1.    0.77  0.   14.33  0.6 ]\n",
      "Simulated Yields (10% SO2 Reduction): [1.05640e+00 4.92320e+00 2.20000e-03 1.32145e+01 7.08200e-01]\n"
     ]
    }
   ],
   "source": [
    "def simulate_scenario(model, scaler, data, feature, percentage_change):\n",
    "    \"\"\"\n",
    "    Simulates a scenario by modifying a specific feature and predicting yield.\n",
    "    \n",
    "    Parameters:\n",
    "    - model: Trained regression model.\n",
    "    - scaler: Fitted scaler object.\n",
    "    - data: Input dataset (Pandas DataFrame).\n",
    "    - feature: Feature to modify (e.g., 'SO2').\n",
    "    - percentage_change: Percentage change to apply (e.g., -10 for 10% reduction).\n",
    "    \n",
    "    Returns:\n",
    "    - Predicted yields after applying the scenario.\n",
    "    \"\"\"\n",
    "    # Copy the data to avoid modifying the original\n",
    "    modified_data = data.copy()\n",
    "    \n",
    "    # Apply the percentage change to the specified feature\n",
    "    modified_data[feature] = modified_data[feature] * (1 + percentage_change / 100)\n",
    "    \n",
    "    # Scale the modified data\n",
    "    modified_data_scaled = scaler.transform(modified_data[X.columns])\n",
    "    \n",
    "    # Predict yields using the modified data\n",
    "    predicted_yields = model.predict(modified_data_scaled)\n",
    "    \n",
    "    return predicted_yields\n",
    "\n",
    "# Example: Simulate a 10% reduction in SO2\n",
    "simulated_yields = simulate_scenario(model, scaler, X_test, feature='SO2', percentage_change=-10)\n",
    "\n",
    "# Compare original vs. simulated yields\n",
    "print(\"Original Yields:\", y_test.values[:5])\n",
    "print(\"Simulated Yields (10% SO2 Reduction):\", simulated_yields[:5])"
   ]
  },
  {
   "cell_type": "code",
   "execution_count": 7,
   "id": "58fc0c1e-1212-4e64-ad5f-1b2a5a088d20",
   "metadata": {},
   "outputs": [
    {
     "name": "stdout",
     "output_type": "stream",
     "text": [
      "Average Yield Improvement: 2.16\n"
     ]
    }
   ],
   "source": [
    "# Calculate the difference between original and simulated yields\n",
    "yield_improvement = simulated_yields - y_test.values\n",
    "\n",
    "# Average improvement\n",
    "average_improvement = yield_improvement.mean()\n",
    "print(f\"Average Yield Improvement: {average_improvement:.2f}\")"
   ]
  },
  {
   "cell_type": "code",
   "execution_count": 8,
   "id": "786f0ff1-d6d7-4216-b973-36f5fabca765",
   "metadata": {},
   "outputs": [
    {
     "data": {
      "image/png": "[encoded data removed]",
      "text/plain": [
       "<Figure size 1000x600 with 1 Axes>"
      ]
     },
     "metadata": {},
     "output_type": "display_data"
    }
   ],
   "source": [
    "import matplotlib.pyplot as plt\n",
    "\n",
    "plt.figure(figsize=(10, 6))\n",
    "plt.plot(y_test.values[:50], label=\"Original Yields\", color=\"blue\")\n",
    "plt.plot(simulated_yields[:50], label=\"Simulated Yields (10% SO2 Reduction)\", color=\"green\")\n",
    "plt.xlabel(\"Samples\")\n",
    "plt.ylabel(\"Yield\")\n",
    "plt.title(\"Impact of 10% SO2 Reduction on Yield\")\n",
    "plt.legend()\n",
    "plt.show()"
   ]
  }
 ],
 "metadata": {
  "kernelspec": {
   "display_name": "Python 3 (ipykernel)",
   "language": "python",
   "name": "python3"
  },
  "language_info": {
   "codemirror_mode": {
    "name": "ipython",
    "version": 3
   },
   "file_extension": ".py",
   "mimetype": "text/x-python",
   "name": "python",
   "nbconvert_exporter": "python",
   "pygments_lexer": "ipython3",
   "version": "3.11.7"
  }
 },
 "nbformat": 4,
 "nbformat_minor": 5
}
