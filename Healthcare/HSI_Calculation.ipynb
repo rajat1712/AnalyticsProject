{
 "cells": [
  {
   "cell_type": "code",
   "execution_count": 1,
   "id": "f8aab133-4178-4306-83bc-ce05c8a8d5b5",
   "metadata": {},
   "outputs": [],
   "source": [
    "import pandas as pd\n",
    "from sklearn.decomposition import PCA\n",
    "from sklearn.preprocessing import StandardScaler\n",
    "from sklearn.linear_model import LinearRegression\n",
    "from sklearn.cluster import KMeans"
   ]
  },
  {
   "cell_type": "code",
   "execution_count": 2,
   "id": "49be4bbd-0b2d-49bb-93d5-5953940b49c6",
   "metadata": {},
   "outputs": [],
   "source": [
    "df = pd.read_excel(\"Updated file AQI.xlsx\")"
   ]
  },
  {
   "cell_type": "code",
   "execution_count": 3,
   "id": "dd6cc210-ede1-495e-a91f-737bf967fda0",
   "metadata": {},
   "outputs": [
    {
     "data": {
      "text/html": [
       "<div>\n",
       "<style scoped>\n",
       "    .dataframe tbody tr th:only-of-type {\n",
       "        vertical-align: middle;\n",
       "    }\n",
       "\n",
       "    .dataframe tbody tr th {\n",
       "        vertical-align: top;\n",
       "    }\n",
       "\n",
       "    .dataframe thead th {\n",
       "        text-align: right;\n",
       "    }\n",
       "</style>\n",
       "<table border=\"1\" class=\"dataframe\">\n",
       "  <thead>\n",
       "    <tr style=\"text-align: right;\">\n",
       "      <th></th>\n",
       "      <th>measure</th>\n",
       "      <th>State</th>\n",
       "      <th>sex</th>\n",
       "      <th>age</th>\n",
       "      <th>cause</th>\n",
       "      <th>year</th>\n",
       "      <th>Deaths</th>\n",
       "      <th>AQI</th>\n",
       "      <th>Number of Hospitals2</th>\n",
       "      <th>Number of Beds2</th>\n",
       "      <th>NO2</th>\n",
       "      <th>SO2</th>\n",
       "      <th>PM10</th>\n",
       "      <th>PM2.5</th>\n",
       "    </tr>\n",
       "  </thead>\n",
       "  <tbody>\n",
       "    <tr>\n",
       "      <th>0</th>\n",
       "      <td>Deaths</td>\n",
       "      <td>Uttar Pradesh</td>\n",
       "      <td>Male</td>\n",
       "      <td>15-19 years</td>\n",
       "      <td>Asthma</td>\n",
       "      <td>2015</td>\n",
       "      <td>72.466215</td>\n",
       "      <td>179.594079</td>\n",
       "      <td>831</td>\n",
       "      <td>54965</td>\n",
       "      <td>28.566038</td>\n",
       "      <td>10.679245</td>\n",
       "      <td>181.716981</td>\n",
       "      <td>96.8</td>\n",
       "    </tr>\n",
       "    <tr>\n",
       "      <th>1</th>\n",
       "      <td>Deaths</td>\n",
       "      <td>Uttar Pradesh</td>\n",
       "      <td>Female</td>\n",
       "      <td>15-19 years</td>\n",
       "      <td>Asthma</td>\n",
       "      <td>2015</td>\n",
       "      <td>110.270358</td>\n",
       "      <td>179.594079</td>\n",
       "      <td>831</td>\n",
       "      <td>54965</td>\n",
       "      <td>28.566038</td>\n",
       "      <td>10.679245</td>\n",
       "      <td>181.716981</td>\n",
       "      <td>96.8</td>\n",
       "    </tr>\n",
       "    <tr>\n",
       "      <th>2</th>\n",
       "      <td>Deaths</td>\n",
       "      <td>Uttar Pradesh</td>\n",
       "      <td>Male</td>\n",
       "      <td>20-24 years</td>\n",
       "      <td>Asthma</td>\n",
       "      <td>2015</td>\n",
       "      <td>112.532770</td>\n",
       "      <td>179.594079</td>\n",
       "      <td>831</td>\n",
       "      <td>54965</td>\n",
       "      <td>28.566038</td>\n",
       "      <td>10.679245</td>\n",
       "      <td>181.716981</td>\n",
       "      <td>96.8</td>\n",
       "    </tr>\n",
       "    <tr>\n",
       "      <th>3</th>\n",
       "      <td>Deaths</td>\n",
       "      <td>Uttar Pradesh</td>\n",
       "      <td>Female</td>\n",
       "      <td>20-24 years</td>\n",
       "      <td>Asthma</td>\n",
       "      <td>2015</td>\n",
       "      <td>133.389949</td>\n",
       "      <td>179.594079</td>\n",
       "      <td>831</td>\n",
       "      <td>54965</td>\n",
       "      <td>28.566038</td>\n",
       "      <td>10.679245</td>\n",
       "      <td>181.716981</td>\n",
       "      <td>96.8</td>\n",
       "    </tr>\n",
       "    <tr>\n",
       "      <th>4</th>\n",
       "      <td>Deaths</td>\n",
       "      <td>Uttar Pradesh</td>\n",
       "      <td>Male</td>\n",
       "      <td>30-34 years</td>\n",
       "      <td>Asthma</td>\n",
       "      <td>2015</td>\n",
       "      <td>235.578511</td>\n",
       "      <td>179.594079</td>\n",
       "      <td>831</td>\n",
       "      <td>54965</td>\n",
       "      <td>28.566038</td>\n",
       "      <td>10.679245</td>\n",
       "      <td>181.716981</td>\n",
       "      <td>96.8</td>\n",
       "    </tr>\n",
       "  </tbody>\n",
       "</table>\n",
       "</div>"
      ],
      "text/plain": [
       "  measure          State     sex          age   cause  year      Deaths  \\\n",
       "0  Deaths  Uttar Pradesh    Male  15-19 years  Asthma  2015   72.466215   \n",
       "1  Deaths  Uttar Pradesh  Female  15-19 years  Asthma  2015  110.270358   \n",
       "2  Deaths  Uttar Pradesh    Male  20-24 years  Asthma  2015  112.532770   \n",
       "3  Deaths  Uttar Pradesh  Female  20-24 years  Asthma  2015  133.389949   \n",
       "4  Deaths  Uttar Pradesh    Male  30-34 years  Asthma  2015  235.578511   \n",
       "\n",
       "          AQI  Number of Hospitals2  Number of Beds2        NO2        SO2  \\\n",
       "0  179.594079                   831            54965  28.566038  10.679245   \n",
       "1  179.594079                   831            54965  28.566038  10.679245   \n",
       "2  179.594079                   831            54965  28.566038  10.679245   \n",
       "3  179.594079                   831            54965  28.566038  10.679245   \n",
       "4  179.594079                   831            54965  28.566038  10.679245   \n",
       "\n",
       "         PM10  PM2.5  \n",
       "0  181.716981   96.8  \n",
       "1  181.716981   96.8  \n",
       "2  181.716981   96.8  \n",
       "3  181.716981   96.8  \n",
       "4  181.716981   96.8  "
      ]
     },
     "execution_count": 3,
     "metadata": {},
     "output_type": "execute_result"
    }
   ],
   "source": [
    "df.head()"
   ]
  },
  {
   "cell_type": "code",
   "execution_count": 4,
   "id": "979faa88-4d1c-4734-89f4-f3521c105612",
   "metadata": {},
   "outputs": [],
   "source": [
    "# Handling missing values with median imputation\n",
    "pollution_columns = [\"NO2\", \"SO2\", \"PM10\"]\n",
    "df[pollution_columns] = df[pollution_columns].fillna(df[pollution_columns].median())"
   ]
  },
  {
   "cell_type": "code",
   "execution_count": 5,
   "id": "9051ecad-3d4b-43d7-9db7-1367541fd7ef",
   "metadata": {},
   "outputs": [],
   "source": [
    "features = [\"AQI\", \"NO2\", \"SO2\", \"PM10\", \"PM2.5\"]"
   ]
  },
  {
   "cell_type": "code",
   "execution_count": 6,
   "id": "bee6aadc-28e8-4b9f-b526-1218d87075a9",
   "metadata": {},
   "outputs": [],
   "source": [
    "# Standardizing the features\n",
    "scaler = StandardScaler()\n",
    "scaled_features = scaler.fit_transform(df[features])"
   ]
  },
  {
   "cell_type": "code",
   "execution_count": 7,
   "id": "3f5ab537-367d-40e7-8fbe-d327feea8574",
   "metadata": {},
   "outputs": [],
   "source": [
    "# PCA for HSI calculation\n",
    "pca = PCA(n_components=1)\n",
    "pca_index = pca.fit_transform(scaled_features)\n",
    "df[\"HSI_PCA\"] = (pca_index - pca_index.min()) / (pca_index.max() - pca_index.min())"
   ]
  },
  {
   "cell_type": "code",
   "execution_count": 8,
   "id": "d09a4e39-580f-40f5-89fe-35c538ef11ee",
   "metadata": {},
   "outputs": [],
   "source": [
    "# Regression Analysis for HSI\n",
    "X = df[features]\n",
    "y = df[\"Deaths\"]"
   ]
  },
  {
   "cell_type": "code",
   "execution_count": 9,
   "id": "06760505-6bac-4acd-843d-7ad57bd911dd",
   "metadata": {},
   "outputs": [],
   "source": [
    "regression_model = LinearRegression()\n",
    "regression_model.fit(X, y)\n",
    "regression_index = regression_model.predict(X)\n",
    "df[\"HSI_Regression\"] = (regression_index - regression_index.min()) / (regression_index.max() - regression_index.min())"
   ]
  },
  {
   "cell_type": "code",
   "execution_count": 10,
   "id": "f1473bb7-a68a-48f5-a3fd-556ca256f92a",
   "metadata": {},
   "outputs": [],
   "source": [
    "# Final HSI Calculation (average of PCA & Regression)\n",
    "df[\"HSI_Final\"] = (df[\"HSI_PCA\"] + df[\"HSI_Regression\"]) / 2"
   ]
  },
  {
   "cell_type": "code",
   "execution_count": 11,
   "id": "b25cf262-73df-44ac-8dd3-c5cef1975bcd",
   "metadata": {},
   "outputs": [],
   "source": [
    "# Aggregating HSI at state level\n",
    "state_hsi = df.groupby(\"State\")[\"HSI_Final\"].mean().reset_index()"
   ]
  },
  {
   "cell_type": "code",
   "execution_count": 12,
   "id": "110cd0ca-0019-4a9b-930f-0533ed39840b",
   "metadata": {},
   "outputs": [
    {
     "name": "stderr",
     "output_type": "stream",
     "text": [
      "C:\\ProgramData\\anaconda3\\Lib\\site-packages\\sklearn\\cluster\\_kmeans.py:1382: UserWarning: KMeans is known to have a memory leak on Windows with MKL, when there are less chunks than available threads. You can avoid it by setting the environment variable OMP_NUM_THREADS=1.\n",
      "  warnings.warn(\n"
     ]
    }
   ],
   "source": [
    "# Clustering states into risk categories\n",
    "kmeans = KMeans(n_clusters=3, random_state=42, n_init=10)\n",
    "state_hsi[\"Cluster\"] = kmeans.fit_predict(state_hsi[[\"HSI_Final\"]])"
   ]
  },
  {
   "cell_type": "code",
   "execution_count": 13,
   "id": "1cdb2aea-9a1d-444a-b1aa-b646d0a64ec5",
   "metadata": {},
   "outputs": [],
   "source": [
    "# Mapping clusters to risk levels\n",
    "risk_labels = {0: \"Low Risk\", 1: \"Moderate Risk\", 2: \"High Risk\"}\n",
    "state_hsi[\"Risk Category\"] = state_hsi[\"Cluster\"].map(risk_labels)"
   ]
  },
  {
   "cell_type": "code",
   "execution_count": 18,
   "id": "a8c986e0-f6cc-408c-9c0b-d76df0d4b49b",
   "metadata": {},
   "outputs": [],
   "source": [
    "new_df=state_hsi['Risk Category'].value_counts()"
   ]
  },
  {
   "cell_type": "code",
   "execution_count": 17,
   "id": "9620000e-9aba-45c6-8bda-ab8a94b04f11",
   "metadata": {},
   "outputs": [],
   "source": [
    "import seaborn as sns\n"
   ]
  },
  {
   "cell_type": "code",
   "execution_count": 19,
   "id": "35ae67e9-08c7-4cc4-99cb-722c0ba5f66e",
   "metadata": {},
   "outputs": [
    {
     "data": {
      "text/html": [
       "<div>\n",
       "<style scoped>\n",
       "    .dataframe tbody tr th:only-of-type {\n",
       "        vertical-align: middle;\n",
       "    }\n",
       "\n",
       "    .dataframe tbody tr th {\n",
       "        vertical-align: top;\n",
       "    }\n",
       "\n",
       "    .dataframe thead th {\n",
       "        text-align: right;\n",
       "    }\n",
       "</style>\n",
       "<table border=\"1\" class=\"dataframe\">\n",
       "  <thead>\n",
       "    <tr style=\"text-align: right;\">\n",
       "      <th></th>\n",
       "      <th>Risk Category</th>\n",
       "      <th>count</th>\n",
       "    </tr>\n",
       "  </thead>\n",
       "  <tbody>\n",
       "    <tr>\n",
       "      <th>0</th>\n",
       "      <td>Moderate Risk</td>\n",
       "      <td>11</td>\n",
       "    </tr>\n",
       "    <tr>\n",
       "      <th>1</th>\n",
       "      <td>Low Risk</td>\n",
       "      <td>9</td>\n",
       "    </tr>\n",
       "    <tr>\n",
       "      <th>2</th>\n",
       "      <td>High Risk</td>\n",
       "      <td>3</td>\n",
       "    </tr>\n",
       "  </tbody>\n",
       "</table>\n",
       "</div>"
      ],
      "text/plain": [
       "   Risk Category  count\n",
       "0  Moderate Risk     11\n",
       "1       Low Risk      9\n",
       "2      High Risk      3"
      ]
     },
     "execution_count": 19,
     "metadata": {},
     "output_type": "execute_result"
    }
   ],
   "source": [
    "new_df.reset_index()"
   ]
  },
  {
   "cell_type": "code",
   "execution_count": 21,
   "id": "93471d68-2bf0-43fb-b6b0-f07db38c1fd5",
   "metadata": {},
   "outputs": [],
   "source": [
    "new_df.columns=['Risk_Category','count']"
   ]
  },
  {
   "cell_type": "code",
   "execution_count": 22,
   "id": "e0d5450b-7d42-4004-ad0d-5573db0cff18",
   "metadata": {},
   "outputs": [
    {
     "data": {
      "text/plain": [
       "['Risk_Category', 'count']"
      ]
     },
     "execution_count": 22,
     "metadata": {},
     "output_type": "execute_result"
    }
   ],
   "source": [
    "new_df.columns"
   ]
  },
  {
   "cell_type": "code",
   "execution_count": 29,
   "id": "8a549d3b-244f-423d-8a8b-75a86fb73653",
   "metadata": {},
   "outputs": [],
   "source": [
    "temp=new_df.reset_index()"
   ]
  },
  {
   "cell_type": "code",
   "execution_count": 30,
   "id": "5f2bf5a5-b5bc-406f-9555-1f9766ed94fb",
   "metadata": {},
   "outputs": [
    {
     "data": {
      "image/png": "[encoded data removed]",
      "text/plain": [
       "<Figure size 640x480 with 1 Axes>"
      ]
     },
     "metadata": {},
     "output_type": "display_data"
    }
   ],
   "source": [
    "ax=sns.barplot(x='Risk Category', y='count', data=temp)\n",
    "\n",
    "for bars in ax.containers:\n",
    "    ax.bar_label(bars)"
   ]
  },
  {
   "cell_type": "code",
   "execution_count": 31,
   "id": "dfaec77e-5c10-445e-9fbc-c30045f5a427",
   "metadata": {},
   "outputs": [],
   "source": [
    "# Merge cluster labels back into the main dataset\n",
    "df = df.merge(state_hsi[[\"State\", \"Cluster\"]], on=\"State\", how=\"left\")"
   ]
  },
  {
   "cell_type": "code",
   "execution_count": 32,
   "id": "faf21283-d490-4002-b35b-b617341e591f",
   "metadata": {},
   "outputs": [
    {
     "name": "stdout",
     "output_type": "stream",
     "text": [
      "HSI calculation and clustering completed. Results saved as CSV files.\n"
     ]
    }
   ],
   "source": [
    "# Save the output\n",
    "df.to_csv(\"HSI_Results.csv\", index=False)\n",
    "state_hsi.to_csv(\"State_HSI_Clusters.csv\", index=False)\n",
    "\n",
    "print(\"HSI calculation and clustering completed. Results saved as CSV files.\")"
   ]
  }
 ],
 "metadata": {
  "kernelspec": {
   "display_name": "Python 3 (ipykernel)",
   "language": "python",
   "name": "python3"
  },
  "language_info": {
   "codemirror_mode": {
    "name": "ipython",
    "version": 3
   },
   "file_extension": ".py",
   "mimetype": "text/x-python",
   "name": "python",
   "nbconvert_exporter": "python",
   "pygments_lexer": "ipython3",
   "version": "3.11.7"
  }
 },
 "nbformat": 4,
 "nbformat_minor": 5
}
