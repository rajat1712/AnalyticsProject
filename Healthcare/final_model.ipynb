{
 "cells": [
  {
   "cell_type": "code",
   "execution_count": 19,
   "id": "0e4a912e-e188-4a32-86fa-5c4152f1801c",
   "metadata": {},
   "outputs": [],
   "source": [
    "import pandas as pd\n",
    "from sklearn.model_selection import train_test_split, KFold, cross_val_score\n",
    "from sklearn.preprocessing import OneHotEncoder, StandardScaler\n",
    "from sklearn.ensemble import RandomForestRegressor\n",
    "from sklearn.linear_model import LinearRegression\n",
    "from sklearn.pipeline import Pipeline\n",
    "from sklearn.compose import ColumnTransformer\n",
    "from sklearn.metrics import mean_squared_error, r2_score\n",
    "import numpy as np"
   ]
  },
  {
   "cell_type": "code",
   "execution_count": 8,
   "id": "e44c3031-b440-43b3-a0dd-e5ce0d35b85b",
   "metadata": {},
   "outputs": [],
   "source": [
    "def load_data():\n",
    "    balance_data = pd.read_excel(\"Updated file AQI.xlsx\")\n",
    "    return balance_data"
   ]
  },
  {
   "cell_type": "code",
   "execution_count": 14,
   "id": "adfa3fcc-8d19-4155-9cdb-3a7b519e51b6",
   "metadata": {},
   "outputs": [],
   "source": [
    "# Preprocess data\n",
    "def preprocess_data(df, features, target):\n",
    "    df = df[features + [target]].dropna()\n",
    "    correlation_matrix = df.select_dtypes(include=[np.number]).corr()\n",
    "    print(\"Feature Correlation with Target:\\n\", correlation_matrix[target])\n",
    "    \n",
    "    X = df[features]\n",
    "    y = df[target]\n",
    "    return train_test_split(X, y, test_size=0.2, random_state=42, shuffle=True)"
   ]
  },
  {
   "cell_type": "code",
   "execution_count": 15,
   "id": "897ec2fd-caea-4ffb-9b5b-c70ab0dfd4ae",
   "metadata": {},
   "outputs": [],
   "source": [
    "# Create preprocessing pipeline\n",
    "def create_pipeline(categorical_features, numerical_features, model_type='random_forest'):\n",
    "    preprocessor = ColumnTransformer([\n",
    "        ('num', StandardScaler(), numerical_features),\n",
    "        ('cat', OneHotEncoder(handle_unknown='ignore'), categorical_features)\n",
    "    ])\n",
    "    \n",
    "    if model_type == 'random_forest':\n",
    "        model = Pipeline([\n",
    "            ('preprocessor', preprocessor),\n",
    "            ('regressor', RandomForestRegressor(n_estimators=50, max_depth=10, random_state=42))\n",
    "        ])\n",
    "    else:\n",
    "        model = Pipeline([\n",
    "            ('preprocessor', preprocessor),\n",
    "            ('regressor', LinearRegression())\n",
    "        ])\n",
    "    \n",
    "    return model"
   ]
  },
  {
   "cell_type": "code",
   "execution_count": 16,
   "id": "50acc54d-7444-4d52-ba0f-ac0e00ca3077",
   "metadata": {},
   "outputs": [],
   "source": [
    "# Train model using cross-validation\n",
    "def train_and_evaluate_model(model, X, y):\n",
    "    kf = KFold(n_splits=5, shuffle=True, random_state=42)\n",
    "    scores = cross_val_score(model, X, y, cv=kf, scoring='r2')\n",
    "    print(f'Cross-validated R2 Scores: {scores}')\n",
    "    print(f'Mean R2 Score: {scores.mean()}')\n",
    "    \n",
    "    X_train, X_test, y_train, y_test = train_test_split(X, y, test_size=0.2, random_state=42, shuffle=True)\n",
    "    model.fit(X_train, y_train)\n",
    "    y_pred = model.predict(X_test)\n",
    "    rmse = mean_squared_error(y_test, y_pred, squared=False)\n",
    "    r2 = r2_score(y_test, y_pred)\n",
    "    print(f'Final Test RMSE: {rmse}')\n",
    "    print(f'Final Test R2 Score: {r2}')\n",
    "    \n",
    "    return model"
   ]
  },
  {
   "cell_type": "code",
   "execution_count": 17,
   "id": "bad2b4d3-45de-4876-aee0-bac5dd34f502",
   "metadata": {},
   "outputs": [],
   "source": [
    "# Predict function to preprocess user input\n",
    "def predict_hospitals(model, features):\n",
    "    state = input(\"Enter State: \")\n",
    "    aqi = float(input(\"Enter AQI: \"))\n",
    "    no2 = float(input(\"Enter NO2: \"))\n",
    "    so2 = float(input(\"Enter SO2: \"))\n",
    "    pm10 = float(input(\"Enter PM10: \"))\n",
    "    pm2_5 = float(input(\"Enter PM2.5: \"))\n",
    "    \n",
    "    input_data = pd.DataFrame([[state, aqi, no2, so2, pm10, pm2_5]], columns=features)\n",
    "    \n",
    "    # Ensure preprocessing pipeline is applied\n",
    "    input_data_transformed = model.named_steps['preprocessor'].transform(input_data)\n",
    "    \n",
    "    predicted_hospitals = model.named_steps['regressor'].predict(input_data_transformed)\n",
    "    print(f'Predicted Number of Hospitals Needed: {round(predicted_hospitals[0])}')"
   ]
  },
  {
   "cell_type": "code",
   "execution_count": 20,
   "id": "bfd51607-fb03-4a92-9d38-7eb03340ed7e",
   "metadata": {},
   "outputs": [
    {
     "name": "stdout",
     "output_type": "stream",
     "text": [
      "Feature Correlation with Target:\n",
      " AQI                    -0.043064\n",
      "NO2                     0.064708\n",
      "SO2                     0.062281\n",
      "PM10                    0.118823\n",
      "PM2.5                  -0.005632\n",
      "Number of Hospitals2    1.000000\n",
      "Name: Number of Hospitals2, dtype: float64\n",
      "Cross-validated R2 Scores: [0.90774338 0.90384656 0.88588366 0.89216851 0.91593532]\n",
      "Mean R2 Score: 0.9011154849533144\n",
      "Final Test RMSE: 369.0841063932672\n",
      "Final Test R2 Score: 0.9071190607391244\n"
     ]
    },
    {
     "name": "stdin",
     "output_type": "stream",
     "text": [
      "Enter State:  Bihar\n",
      "Enter AQI:  220\n",
      "Enter NO2:  45\n",
      "Enter SO2:  7.8\n",
      "Enter PM10:  350\n",
      "Enter PM2.5:  160\n"
     ]
    },
    {
     "name": "stdout",
     "output_type": "stream",
     "text": [
      "Predicted Number of Hospitals Needed: 1335\n"
     ]
    }
   ],
   "source": [
    "# Main execution\n",
    "if __name__ == \"__main__\":\n",
    "    sheet_name = \"Updated file AQI.xlsx\"\n",
    "    \n",
    "    features = ['State', 'AQI', 'NO2', 'SO2', 'PM10', 'PM2.5']\n",
    "    target = 'Number of Hospitals2'\n",
    "    \n",
    "    df = load_data()\n",
    "    X_train, X_test, y_train, y_test = preprocess_data(df, features, target)\n",
    "    \n",
    "    categorical_features = ['State']\n",
    "    numerical_features = ['AQI', 'NO2', 'SO2', 'PM10', 'PM2.5']\n",
    "    \n",
    "    model = create_pipeline(categorical_features, numerical_features, model_type='random_forest')\n",
    "    model = train_and_evaluate_model(model, X_train, y_train)\n",
    "    \n",
    "    # Predict hospitals for user input\n",
    "    predict_hospitals(model, features)"
   ]
  }
 ],
 "metadata": {
  "kernelspec": {
   "display_name": "Python 3 (ipykernel)",
   "language": "python",
   "name": "python3"
  },
  "language_info": {
   "codemirror_mode": {
    "name": "ipython",
    "version": 3
   },
   "file_extension": ".py",
   "mimetype": "text/x-python",
   "name": "python",
   "nbconvert_exporter": "python",
   "pygments_lexer": "ipython3",
   "version": "3.11.7"
  }
 },
 "nbformat": 4,
 "nbformat_minor": 5
}
